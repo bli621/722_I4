{
 "cells": [
  {
   "cell_type": "code",
   "execution_count": 97,
   "id": "551c9867",
   "metadata": {},
   "outputs": [],
   "source": [
    "import findspark\n",
    "findspark.init('spark-3.2.1-bin-hadoop2.7')\n",
    "import pyspark as ps\n",
    "from pyspark.sql import SparkSession\n",
    "from pyspark.sql.functions import when\n",
    "spark = SparkSession.builder.appName('Iteration4').getOrCreate()"
   ]
  },
  {
   "cell_type": "code",
   "execution_count": 98,
   "id": "b3f80344",
   "metadata": {},
   "outputs": [
    {
     "name": "stdout",
     "output_type": "stream",
     "text": [
      "root\n",
      " |-- Diabetes_012: string (nullable = true)\n",
      " |-- HighBP: string (nullable = true)\n",
      " |-- HighChol: string (nullable = true)\n",
      " |-- CholCheck: string (nullable = true)\n",
      " |-- BMI: string (nullable = true)\n",
      " |-- Smoker: string (nullable = true)\n",
      " |-- Stroke: string (nullable = true)\n",
      " |-- HeartDiseaseorAttack: string (nullable = true)\n",
      " |-- PhysActivity: string (nullable = true)\n",
      " |-- Fruits: string (nullable = true)\n",
      " |-- Veggies: string (nullable = true)\n",
      " |-- HvyAlcoholConsump: string (nullable = true)\n",
      " |-- AnyHealthcare: string (nullable = true)\n",
      " |-- NoDocbcCost: string (nullable = true)\n",
      " |-- GenHlth: string (nullable = true)\n",
      " |-- MentHlth: string (nullable = true)\n",
      " |-- PhysHlth: string (nullable = true)\n",
      " |-- DiffWalk: string (nullable = true)\n",
      " |-- Sex: string (nullable = true)\n",
      " |-- Age: string (nullable = true)\n",
      " |-- Education: string (nullable = true)\n",
      " |-- Income: string (nullable = true)\n",
      "\n"
     ]
    },
    {
     "data": {
      "text/plain": [
       "['Diabetes_012',\n",
       " 'HighBP',\n",
       " 'HighChol',\n",
       " 'CholCheck',\n",
       " 'BMI',\n",
       " 'Smoker',\n",
       " 'Stroke',\n",
       " 'HeartDiseaseorAttack',\n",
       " 'PhysActivity',\n",
       " 'Fruits',\n",
       " 'Veggies',\n",
       " 'HvyAlcoholConsump',\n",
       " 'AnyHealthcare',\n",
       " 'NoDocbcCost',\n",
       " 'GenHlth',\n",
       " 'MentHlth',\n",
       " 'PhysHlth',\n",
       " 'DiffWalk',\n",
       " 'Sex',\n",
       " 'Age',\n",
       " 'Education',\n",
       " 'Income']"
      ]
     },
     "execution_count": 98,
     "metadata": {},
     "output_type": "execute_result"
    }
   ],
   "source": [
    "df = spark.read.csv(\"./diabetes_012_health_indicators_BRFSS2015.csv\", header = \"true\")\n",
    "df.printSchema()\n",
    "df.columns"
   ]
  },
  {
   "cell_type": "code",
   "execution_count": 99,
   "id": "97e1b004",
   "metadata": {},
   "outputs": [
    {
     "data": {
      "text/plain": [
       "'2.3 Explore the data'"
      ]
     },
     "execution_count": 99,
     "metadata": {},
     "output_type": "execute_result"
    }
   ],
   "source": [
    "\"2.3 Explore the data\""
   ]
  },
  {
   "cell_type": "code",
   "execution_count": 100,
   "id": "00c3aad3",
   "metadata": {
    "scrolled": false
   },
   "outputs": [
    {
     "name": "stdout",
     "output_type": "stream",
     "text": [
      "+-----------+\n",
      "|No_diabetes|\n",
      "+-----------+\n",
      "|     213703|\n",
      "+-----------+\n",
      "\n",
      "+------------+\n",
      "|Pre_diabetes|\n",
      "+------------+\n",
      "|        4631|\n",
      "+------------+\n",
      "\n",
      "+--------+\n",
      "|Diabetes|\n",
      "+--------+\n",
      "|   35346|\n",
      "+--------+\n",
      "\n"
     ]
    }
   ],
   "source": [
    "df.createOrReplaceTempView('diabetes_012_health_indicators_BRFSS2015')\n",
    "result1 = spark.sql(\"SELECT COUNT(Diabetes_012) AS No_diabetes from diabetes_012_health_indicators_BRFSS2015 WHERE Diabetes_012 = 0  \")\n",
    "result1.show()\n",
    "result2 = spark.sql(\"SELECT COUNT(Diabetes_012) AS Pre_diabetes from diabetes_012_health_indicators_BRFSS2015  WHERE Diabetes_012 = 1\")\n",
    "result2.show()\n",
    "result3 = spark.sql(\"SELECT COUNT(Diabetes_012) AS Diabetes from diabetes_012_health_indicators_BRFSS2015  WHERE Diabetes_012 = 2\")\n",
    "result3.show()"
   ]
  },
  {
   "cell_type": "code",
   "execution_count": 101,
   "id": "9ca8fef1",
   "metadata": {
    "scrolled": true
   },
   "outputs": [
    {
     "data": {
      "image/png": "[encoded data removed]",
      "text/plain": [
       "<Figure size 432x288 with 1 Axes>"
      ]
     },
     "metadata": {
      "needs_background": "light"
     },
     "output_type": "display_data"
    }
   ],
   "source": [
    "import numpy as np\n",
    "import matplotlib.pyplot as plt\n",
    "%matplotlib inline\n",
    "DiabetesArr = np.array(df.select('Diabetes_012').collect())\n",
    "plt.xlabel('Diabetes_Group')\n",
    "plt.ylabel('Count')\n",
    "plt.hist(DiabetesArr)\n",
    "plt.show()"
   ]
  },
  {
   "cell_type": "code",
   "execution_count": 102,
   "id": "c8d5f630",
   "metadata": {},
   "outputs": [
    {
     "name": "stderr",
     "output_type": "stream",
     "text": [
      "                                                                                \r"
     ]
    },
    {
     "data": {
      "text/html": [
       "<div>\n",
       "<style scoped>\n",
       "    .dataframe tbody tr th:only-of-type {\n",
       "        vertical-align: middle;\n",
       "    }\n",
       "\n",
       "    .dataframe tbody tr th {\n",
       "        vertical-align: top;\n",
       "    }\n",
       "\n",
       "    .dataframe thead th {\n",
       "        text-align: right;\n",
       "    }\n",
       "</style>\n",
       "<table border=\"1\" class=\"dataframe\">\n",
       "  <thead>\n",
       "    <tr style=\"text-align: right;\">\n",
       "      <th></th>\n",
       "      <th>summary</th>\n",
       "      <th>Diabetes_012</th>\n",
       "      <th>HighBP</th>\n",
       "      <th>HighChol</th>\n",
       "      <th>CholCheck</th>\n",
       "      <th>BMI</th>\n",
       "      <th>Smoker</th>\n",
       "      <th>Stroke</th>\n",
       "      <th>HeartDiseaseorAttack</th>\n",
       "      <th>PhysActivity</th>\n",
       "      <th>...</th>\n",
       "      <th>AnyHealthcare</th>\n",
       "      <th>NoDocbcCost</th>\n",
       "      <th>GenHlth</th>\n",
       "      <th>MentHlth</th>\n",
       "      <th>PhysHlth</th>\n",
       "      <th>DiffWalk</th>\n",
       "      <th>Sex</th>\n",
       "      <th>Age</th>\n",
       "      <th>Education</th>\n",
       "      <th>Income</th>\n",
       "    </tr>\n",
       "  </thead>\n",
       "  <tbody>\n",
       "    <tr>\n",
       "      <th>0</th>\n",
       "      <td>count</td>\n",
       "      <td>253680</td>\n",
       "      <td>253680</td>\n",
       "      <td>253680</td>\n",
       "      <td>253680</td>\n",
       "      <td>253680</td>\n",
       "      <td>253680</td>\n",
       "      <td>253680</td>\n",
       "      <td>253680</td>\n",
       "      <td>253680</td>\n",
       "      <td>...</td>\n",
       "      <td>253680</td>\n",
       "      <td>253680</td>\n",
       "      <td>253680</td>\n",
       "      <td>253680</td>\n",
       "      <td>253680</td>\n",
       "      <td>253680</td>\n",
       "      <td>253680</td>\n",
       "      <td>253680</td>\n",
       "      <td>253680</td>\n",
       "      <td>253680</td>\n",
       "    </tr>\n",
       "    <tr>\n",
       "      <th>1</th>\n",
       "      <td>mean</td>\n",
       "      <td>0.29692131819615264</td>\n",
       "      <td>0.4290011037527594</td>\n",
       "      <td>0.4241209397666351</td>\n",
       "      <td>0.9626695048880479</td>\n",
       "      <td>28.382363607694735</td>\n",
       "      <td>0.44316855881425415</td>\n",
       "      <td>0.04057079785556607</td>\n",
       "      <td>0.09418558814254178</td>\n",
       "      <td>0.7565436770734784</td>\n",
       "      <td>...</td>\n",
       "      <td>0.9510525070955534</td>\n",
       "      <td>0.08417691579943236</td>\n",
       "      <td>2.5113923052664773</td>\n",
       "      <td>3.1847721538946705</td>\n",
       "      <td>4.2420805739514345</td>\n",
       "      <td>0.16822374645222327</td>\n",
       "      <td>0.4403421633554084</td>\n",
       "      <td>8.032119205298013</td>\n",
       "      <td>5.050433617155472</td>\n",
       "      <td>6.053874960580258</td>\n",
       "    </tr>\n",
       "    <tr>\n",
       "      <th>2</th>\n",
       "      <td>stddev</td>\n",
       "      <td>0.6981597284090991</td>\n",
       "      <td>0.49493446268990043</td>\n",
       "      <td>0.49420980465688596</td>\n",
       "      <td>0.18957075436272514</td>\n",
       "      <td>6.608694201406001</td>\n",
       "      <td>0.4967606667785607</td>\n",
       "      <td>0.1972940994001612</td>\n",
       "      <td>0.2920873147507536</td>\n",
       "      <td>0.4291690433970471</td>\n",
       "      <td>...</td>\n",
       "      <td>0.21575870631073912</td>\n",
       "      <td>0.27765350085762547</td>\n",
       "      <td>1.068477362280392</td>\n",
       "      <td>7.412846696196214</td>\n",
       "      <td>8.717951307175158</td>\n",
       "      <td>0.3740655947328013</td>\n",
       "      <td>0.49642916311850416</td>\n",
       "      <td>3.0542204341684855</td>\n",
       "      <td>0.9857741757276508</td>\n",
       "      <td>2.071147566271524</td>\n",
       "    </tr>\n",
       "    <tr>\n",
       "      <th>3</th>\n",
       "      <td>min</td>\n",
       "      <td>0.0</td>\n",
       "      <td>0.0</td>\n",
       "      <td>0.0</td>\n",
       "      <td>0.0</td>\n",
       "      <td>12.0</td>\n",
       "      <td>0.0</td>\n",
       "      <td>0.0</td>\n",
       "      <td>0.0</td>\n",
       "      <td>0.0</td>\n",
       "      <td>...</td>\n",
       "      <td>0.0</td>\n",
       "      <td>0.0</td>\n",
       "      <td>1.0</td>\n",
       "      <td>0.0</td>\n",
       "      <td>0.0</td>\n",
       "      <td>0.0</td>\n",
       "      <td>0.0</td>\n",
       "      <td>1.0</td>\n",
       "      <td>1.0</td>\n",
       "      <td>1.0</td>\n",
       "    </tr>\n",
       "    <tr>\n",
       "      <th>4</th>\n",
       "      <td>max</td>\n",
       "      <td>2.0</td>\n",
       "      <td>1.0</td>\n",
       "      <td>1.0</td>\n",
       "      <td>1.0</td>\n",
       "      <td>98.0</td>\n",
       "      <td>1.0</td>\n",
       "      <td>1.0</td>\n",
       "      <td>1.0</td>\n",
       "      <td>1.0</td>\n",
       "      <td>...</td>\n",
       "      <td>1.0</td>\n",
       "      <td>1.0</td>\n",
       "      <td>5.0</td>\n",
       "      <td>9.0</td>\n",
       "      <td>9.0</td>\n",
       "      <td>1.0</td>\n",
       "      <td>1.0</td>\n",
       "      <td>9.0</td>\n",
       "      <td>6.0</td>\n",
       "      <td>8.0</td>\n",
       "    </tr>\n",
       "  </tbody>\n",
       "</table>\n",
       "<p>5 rows × 23 columns</p>\n",
       "</div>"
      ],
      "text/plain": [
       "  summary         Diabetes_012               HighBP             HighChol  \\\n",
       "0   count               253680               253680               253680   \n",
       "1    mean  0.29692131819615264   0.4290011037527594   0.4241209397666351   \n",
       "2  stddev   0.6981597284090991  0.49493446268990043  0.49420980465688596   \n",
       "3     min                  0.0                  0.0                  0.0   \n",
       "4     max                  2.0                  1.0                  1.0   \n",
       "\n",
       "             CholCheck                 BMI               Smoker  \\\n",
       "0               253680              253680               253680   \n",
       "1   0.9626695048880479  28.382363607694735  0.44316855881425415   \n",
       "2  0.18957075436272514   6.608694201406001   0.4967606667785607   \n",
       "3                  0.0                12.0                  0.0   \n",
       "4                  1.0                98.0                  1.0   \n",
       "\n",
       "                Stroke HeartDiseaseorAttack        PhysActivity  ...  \\\n",
       "0               253680               253680              253680  ...   \n",
       "1  0.04057079785556607  0.09418558814254178  0.7565436770734784  ...   \n",
       "2   0.1972940994001612   0.2920873147507536  0.4291690433970471  ...   \n",
       "3                  0.0                  0.0                 0.0  ...   \n",
       "4                  1.0                  1.0                 1.0  ...   \n",
       "\n",
       "         AnyHealthcare          NoDocbcCost             GenHlth  \\\n",
       "0               253680               253680              253680   \n",
       "1   0.9510525070955534  0.08417691579943236  2.5113923052664773   \n",
       "2  0.21575870631073912  0.27765350085762547   1.068477362280392   \n",
       "3                  0.0                  0.0                 1.0   \n",
       "4                  1.0                  1.0                 5.0   \n",
       "\n",
       "             MentHlth            PhysHlth             DiffWalk  \\\n",
       "0              253680              253680               253680   \n",
       "1  3.1847721538946705  4.2420805739514345  0.16822374645222327   \n",
       "2   7.412846696196214   8.717951307175158   0.3740655947328013   \n",
       "3                 0.0                 0.0                  0.0   \n",
       "4                 9.0                 9.0                  1.0   \n",
       "\n",
       "                   Sex                 Age           Education  \\\n",
       "0               253680              253680              253680   \n",
       "1   0.4403421633554084   8.032119205298013   5.050433617155472   \n",
       "2  0.49642916311850416  3.0542204341684855  0.9857741757276508   \n",
       "3                  0.0                 1.0                 1.0   \n",
       "4                  1.0                 9.0                 6.0   \n",
       "\n",
       "              Income  \n",
       "0             253680  \n",
       "1  6.053874960580258  \n",
       "2  2.071147566271524  \n",
       "3                1.0  \n",
       "4                8.0  \n",
       "\n",
       "[5 rows x 23 columns]"
      ]
     },
     "execution_count": 102,
     "metadata": {},
     "output_type": "execute_result"
    }
   ],
   "source": [
    "df.describe().toPandas()"
   ]
  },
  {
   "cell_type": "code",
   "execution_count": 103,
   "id": "da438c45",
   "metadata": {
    "scrolled": true
   },
   "outputs": [
    {
     "data": {
      "image/png": "[encoded data removed]",
      "text/plain": [
       "<Figure size 432x288 with 1 Axes>"
      ]
     },
     "metadata": {
      "needs_background": "light"
     },
     "output_type": "display_data"
    }
   ],
   "source": [
    "import numpy as np\n",
    "import pandas as pd\n",
    "import matplotlib.pyplot as plt\n",
    "%matplotlib inline\n",
    "Sex = np.array(df.select('Sex').collect())\n",
    "plt.xlabel('Gender_Group')\n",
    "plt.ylabel('Count')\n",
    "plt.hist(Sex)\n",
    "plt.show()"
   ]
  },
  {
   "cell_type": "code",
   "execution_count": 104,
   "id": "19e5a480",
   "metadata": {},
   "outputs": [
    {
     "name": "stderr",
     "output_type": "stream",
     "text": [
      "                                                                                \r"
     ]
    }
   ],
   "source": [
    "dfaa = df.toPandas()\n",
    "dfaa['BMI']=dfaa['BMI'].astype(float)"
   ]
  },
  {
   "cell_type": "code",
   "execution_count": 105,
   "id": "e94abcd2",
   "metadata": {},
   "outputs": [
    {
     "data": {
      "text/plain": [
       "<AxesSubplot: >"
      ]
     },
     "execution_count": 105,
     "metadata": {},
     "output_type": "execute_result"
    },
    {
     "data": {
      "image/png": "[encoded data removed]",
      "text/plain": [
       "<Figure size 432x288 with 1 Axes>"
      ]
     },
     "metadata": {
      "needs_background": "light"
     },
     "output_type": "display_data"
    }
   ],
   "source": [
    "dfaa.boxplot(column='BMI')"
   ]
  },
  {
   "cell_type": "code",
   "execution_count": 106,
   "id": "f7223cec",
   "metadata": {},
   "outputs": [
    {
     "name": "stderr",
     "output_type": "stream",
     "text": [
      "                                                                                \r"
     ]
    },
    {
     "data": {
      "text/plain": [
       "<AxesSubplot: >"
      ]
     },
     "execution_count": 106,
     "metadata": {},
     "output_type": "execute_result"
    },
    {
     "data": {
      "image/png": "[encoded data removed]",
      "text/plain": [
       "<Figure size 432x288 with 1 Axes>"
      ]
     },
     "metadata": {
      "needs_background": "light"
     },
     "output_type": "display_data"
    }
   ],
   "source": [
    "dfaa = df.toPandas()\n",
    "dfaa['Age']=dfaa['Age'].astype(float)\n",
    "dfaa.boxplot(column='Age')"
   ]
  },
  {
   "cell_type": "code",
   "execution_count": 107,
   "id": "6acc3352",
   "metadata": {},
   "outputs": [
    {
     "name": "stderr",
     "output_type": "stream",
     "text": [
      "                                                                                \r"
     ]
    },
    {
     "data": {
      "text/html": [
       "<div>\n",
       "<style scoped>\n",
       "    .dataframe tbody tr th:only-of-type {\n",
       "        vertical-align: middle;\n",
       "    }\n",
       "\n",
       "    .dataframe tbody tr th {\n",
       "        vertical-align: top;\n",
       "    }\n",
       "\n",
       "    .dataframe thead th {\n",
       "        text-align: right;\n",
       "    }\n",
       "</style>\n",
       "<table border=\"1\" class=\"dataframe\">\n",
       "  <thead>\n",
       "    <tr style=\"text-align: right;\">\n",
       "      <th></th>\n",
       "      <th>Diabetes_012</th>\n",
       "      <th>HighBP</th>\n",
       "      <th>HighChol</th>\n",
       "      <th>CholCheck</th>\n",
       "      <th>BMI</th>\n",
       "      <th>Smoker</th>\n",
       "      <th>Stroke</th>\n",
       "      <th>HeartDiseaseorAttack</th>\n",
       "      <th>PhysActivity</th>\n",
       "      <th>Fruits</th>\n",
       "      <th>...</th>\n",
       "      <th>AnyHealthcare</th>\n",
       "      <th>NoDocbcCost</th>\n",
       "      <th>GenHlth</th>\n",
       "      <th>MentHlth</th>\n",
       "      <th>PhysHlth</th>\n",
       "      <th>DiffWalk</th>\n",
       "      <th>Sex</th>\n",
       "      <th>Age</th>\n",
       "      <th>Education</th>\n",
       "      <th>Income</th>\n",
       "    </tr>\n",
       "  </thead>\n",
       "  <tbody>\n",
       "    <tr>\n",
       "      <th>count</th>\n",
       "      <td>253680</td>\n",
       "      <td>253680</td>\n",
       "      <td>253680</td>\n",
       "      <td>253680</td>\n",
       "      <td>253680</td>\n",
       "      <td>253680</td>\n",
       "      <td>253680</td>\n",
       "      <td>253680</td>\n",
       "      <td>253680</td>\n",
       "      <td>253680</td>\n",
       "      <td>...</td>\n",
       "      <td>253680</td>\n",
       "      <td>253680</td>\n",
       "      <td>253680</td>\n",
       "      <td>253680</td>\n",
       "      <td>253680</td>\n",
       "      <td>253680</td>\n",
       "      <td>253680</td>\n",
       "      <td>253680</td>\n",
       "      <td>253680</td>\n",
       "      <td>253680</td>\n",
       "    </tr>\n",
       "    <tr>\n",
       "      <th>unique</th>\n",
       "      <td>3</td>\n",
       "      <td>2</td>\n",
       "      <td>2</td>\n",
       "      <td>2</td>\n",
       "      <td>84</td>\n",
       "      <td>2</td>\n",
       "      <td>2</td>\n",
       "      <td>2</td>\n",
       "      <td>2</td>\n",
       "      <td>2</td>\n",
       "      <td>...</td>\n",
       "      <td>2</td>\n",
       "      <td>2</td>\n",
       "      <td>5</td>\n",
       "      <td>31</td>\n",
       "      <td>31</td>\n",
       "      <td>2</td>\n",
       "      <td>2</td>\n",
       "      <td>13</td>\n",
       "      <td>6</td>\n",
       "      <td>8</td>\n",
       "    </tr>\n",
       "    <tr>\n",
       "      <th>top</th>\n",
       "      <td>0.0</td>\n",
       "      <td>0.0</td>\n",
       "      <td>0.0</td>\n",
       "      <td>1.0</td>\n",
       "      <td>27.0</td>\n",
       "      <td>0.0</td>\n",
       "      <td>0.0</td>\n",
       "      <td>0.0</td>\n",
       "      <td>1.0</td>\n",
       "      <td>1.0</td>\n",
       "      <td>...</td>\n",
       "      <td>1.0</td>\n",
       "      <td>0.0</td>\n",
       "      <td>2.0</td>\n",
       "      <td>0.0</td>\n",
       "      <td>0.0</td>\n",
       "      <td>0.0</td>\n",
       "      <td>0.0</td>\n",
       "      <td>9.0</td>\n",
       "      <td>6.0</td>\n",
       "      <td>8.0</td>\n",
       "    </tr>\n",
       "    <tr>\n",
       "      <th>freq</th>\n",
       "      <td>213703</td>\n",
       "      <td>144851</td>\n",
       "      <td>146089</td>\n",
       "      <td>244210</td>\n",
       "      <td>24606</td>\n",
       "      <td>141257</td>\n",
       "      <td>243388</td>\n",
       "      <td>229787</td>\n",
       "      <td>191920</td>\n",
       "      <td>160898</td>\n",
       "      <td>...</td>\n",
       "      <td>241263</td>\n",
       "      <td>232326</td>\n",
       "      <td>89084</td>\n",
       "      <td>175680</td>\n",
       "      <td>160052</td>\n",
       "      <td>211005</td>\n",
       "      <td>141974</td>\n",
       "      <td>33244</td>\n",
       "      <td>107325</td>\n",
       "      <td>90385</td>\n",
       "    </tr>\n",
       "  </tbody>\n",
       "</table>\n",
       "<p>4 rows × 22 columns</p>\n",
       "</div>"
      ],
      "text/plain": [
       "       Diabetes_012  HighBP HighChol CholCheck     BMI  Smoker  Stroke  \\\n",
       "count        253680  253680   253680    253680  253680  253680  253680   \n",
       "unique            3       2        2         2      84       2       2   \n",
       "top             0.0     0.0      0.0       1.0    27.0     0.0     0.0   \n",
       "freq         213703  144851   146089    244210   24606  141257  243388   \n",
       "\n",
       "       HeartDiseaseorAttack PhysActivity  Fruits  ... AnyHealthcare  \\\n",
       "count                253680       253680  253680  ...        253680   \n",
       "unique                    2            2       2  ...             2   \n",
       "top                     0.0          1.0     1.0  ...           1.0   \n",
       "freq                 229787       191920  160898  ...        241263   \n",
       "\n",
       "       NoDocbcCost GenHlth MentHlth PhysHlth DiffWalk     Sex     Age  \\\n",
       "count       253680  253680   253680   253680   253680  253680  253680   \n",
       "unique           2       5       31       31        2       2      13   \n",
       "top            0.0     2.0      0.0      0.0      0.0     0.0     9.0   \n",
       "freq        232326   89084   175680   160052   211005  141974   33244   \n",
       "\n",
       "       Education  Income  \n",
       "count     253680  253680  \n",
       "unique         6       8  \n",
       "top          6.0     8.0  \n",
       "freq      107325   90385  \n",
       "\n",
       "[4 rows x 22 columns]"
      ]
     },
     "execution_count": 107,
     "metadata": {},
     "output_type": "execute_result"
    }
   ],
   "source": [
    "import numpy as np\n",
    "import pandas as pd\n",
    "import matplotlib.pyplot as plt\n",
    "new_df = df.toPandas()\n",
    "new_df.describe()\n"
   ]
  },
  {
   "cell_type": "code",
   "execution_count": 108,
   "id": "0fd98d5e",
   "metadata": {},
   "outputs": [],
   "source": [
    "new_df['Diabetes_012']=new_df['Diabetes_012'].astype(float)\n",
    "new_df['Sex']=new_df['Sex'].astype(float)\n",
    "new_df['BMI']=new_df['BMI'].astype(float)\n",
    "new_df['Age']=new_df['Age'].astype(float)"
   ]
  },
  {
   "cell_type": "code",
   "execution_count": 109,
   "id": "08922d6e",
   "metadata": {},
   "outputs": [
    {
     "name": "stdout",
     "output_type": "stream",
     "text": [
      "213703\n",
      "4631\n",
      "35346\n",
      "46 6\n"
     ]
    }
   ],
   "source": [
    "from pyspark.sql.functions import col, explode, array, lit\n",
    "no_dia = df.filter(col(\"Diabetes_012\") == 0)\n",
    "print(no_dia.count())\n",
    "pre_dia = df.filter(col(\"Diabetes_012\") == 1)\n",
    "print(pre_dia.count())\n",
    "dia = df.filter(col(\"Diabetes_012\") == 2)\n",
    "print(dia.count())\n",
    "ratio1 = int(no_dia.count()/pre_dia.count())\n",
    "ratio2 = int(no_dia.count()/dia.count())\n",
    "print(ratio1,ratio2)"
   ]
  },
  {
   "cell_type": "code",
   "execution_count": 110,
   "id": "9d5df304",
   "metadata": {},
   "outputs": [],
   "source": [
    "#Use PySpark explode to solve oversampling in diabetes patients number"
   ]
  },
  {
   "cell_type": "code",
   "execution_count": 111,
   "id": "2be8fe58",
   "metadata": {},
   "outputs": [
    {
     "name": "stderr",
     "output_type": "stream",
     "text": [
      "                                                                                \r"
     ]
    },
    {
     "data": {
      "image/png": "[encoded data removed]",
      "text/plain": [
       "<Figure size 432x288 with 1 Axes>"
      ]
     },
     "metadata": {
      "needs_background": "light"
     },
     "output_type": "display_data"
    }
   ],
   "source": [
    "a = range(ratio1)\n",
    "oversampled_df = pre_dia.withColumn(\"dummy\", explode(array([lit(x) for x in a]))).drop('dummy')\n",
    "combined_df = dia.unionAll(oversampled_df)\n",
    "b = range(ratio2)\n",
    "oversampled_df2 = dia.withColumn(\"dummy\", explode(array([lit(x) for x in b]))).drop('dummy')\n",
    "combined_df2 = no_dia.unionAll(oversampled_df2)\n",
    "combined_df3 = combined_df.unionAll(combined_df2)\n",
    "balance = np.array(combined_df3.select('Diabetes_012').collect())\n",
    "plt.xlabel('Diabetes_Group')\n",
    "plt.ylabel('Count')\n",
    "plt.hist(balance)\n",
    "plt.show()"
   ]
  },
  {
   "cell_type": "code",
   "execution_count": 112,
   "id": "54d83f0e",
   "metadata": {},
   "outputs": [],
   "source": [
    "new_df = combined_df3"
   ]
  },
  {
   "cell_type": "code",
   "execution_count": 113,
   "id": "23722bff",
   "metadata": {},
   "outputs": [
    {
     "name": "stderr",
     "output_type": "stream",
     "text": [
      "                                                                                \r"
     ]
    },
    {
     "data": {
      "text/html": [
       "<div>\n",
       "<style scoped>\n",
       "    .dataframe tbody tr th:only-of-type {\n",
       "        vertical-align: middle;\n",
       "    }\n",
       "\n",
       "    .dataframe tbody tr th {\n",
       "        vertical-align: top;\n",
       "    }\n",
       "\n",
       "    .dataframe thead th {\n",
       "        text-align: right;\n",
       "    }\n",
       "</style>\n",
       "<table border=\"1\" class=\"dataframe\">\n",
       "  <thead>\n",
       "    <tr style=\"text-align: right;\">\n",
       "      <th></th>\n",
       "      <th>summary</th>\n",
       "      <th>Diabetes_012</th>\n",
       "      <th>HighBP</th>\n",
       "      <th>HighChol</th>\n",
       "      <th>CholCheck</th>\n",
       "      <th>BMI</th>\n",
       "      <th>Smoker</th>\n",
       "      <th>Stroke</th>\n",
       "      <th>HeartDiseaseorAttack</th>\n",
       "      <th>PhysActivity</th>\n",
       "      <th>...</th>\n",
       "      <th>AnyHealthcare</th>\n",
       "      <th>NoDocbcCost</th>\n",
       "      <th>GenHlth</th>\n",
       "      <th>MentHlth</th>\n",
       "      <th>PhysHlth</th>\n",
       "      <th>DiffWalk</th>\n",
       "      <th>Sex</th>\n",
       "      <th>Age</th>\n",
       "      <th>Education</th>\n",
       "      <th>Income</th>\n",
       "    </tr>\n",
       "  </thead>\n",
       "  <tbody>\n",
       "    <tr>\n",
       "      <th>0</th>\n",
       "      <td>count</td>\n",
       "      <td>674151</td>\n",
       "      <td>674151</td>\n",
       "      <td>674151</td>\n",
       "      <td>674151</td>\n",
       "      <td>674151</td>\n",
       "      <td>674151</td>\n",
       "      <td>674151</td>\n",
       "      <td>674151</td>\n",
       "      <td>674151</td>\n",
       "      <td>...</td>\n",
       "      <td>674151</td>\n",
       "      <td>674151</td>\n",
       "      <td>674151</td>\n",
       "      <td>674151</td>\n",
       "      <td>674151</td>\n",
       "      <td>674151</td>\n",
       "      <td>674151</td>\n",
       "      <td>674151</td>\n",
       "      <td>674151</td>\n",
       "      <td>674151</td>\n",
       "    </tr>\n",
       "    <tr>\n",
       "      <th>1</th>\n",
       "      <td>mean</td>\n",
       "      <td>1.05001698432547</td>\n",
       "      <td>0.5926535746442563</td>\n",
       "      <td>0.5623102242672635</td>\n",
       "      <td>0.9796692432407577</td>\n",
       "      <td>30.226790437157256</td>\n",
       "      <td>0.48211009106268476</td>\n",
       "      <td>0.06204099674998628</td>\n",
       "      <td>0.1498788847009053</td>\n",
       "      <td>0.6927706107385437</td>\n",
       "      <td>...</td>\n",
       "      <td>0.9519707009260536</td>\n",
       "      <td>0.10496313140527865</td>\n",
       "      <td>2.900133649582957</td>\n",
       "      <td>4.002315504983305</td>\n",
       "      <td>6.061016003832969</td>\n",
       "      <td>0.26585438573850667</td>\n",
       "      <td>0.45172520696401847</td>\n",
       "      <td>8.780799850478601</td>\n",
       "      <td>4.872304572714421</td>\n",
       "      <td>5.571196957358218</td>\n",
       "    </tr>\n",
       "    <tr>\n",
       "      <th>2</th>\n",
       "      <td>stddev</td>\n",
       "      <td>0.8255348514776777</td>\n",
       "      <td>0.4913406895514607</td>\n",
       "      <td>0.4961026113919536</td>\n",
       "      <td>0.14112918420131107</td>\n",
       "      <td>7.125116448692973</td>\n",
       "      <td>0.49968021926109957</td>\n",
       "      <td>0.24123017595481597</td>\n",
       "      <td>0.3569529291419054</td>\n",
       "      <td>0.4613456484576627</td>\n",
       "      <td>...</td>\n",
       "      <td>0.21382832676432997</td>\n",
       "      <td>0.3065061366521579</td>\n",
       "      <td>1.0879744230733153</td>\n",
       "      <td>8.410205547251802</td>\n",
       "      <td>10.195654036001438</td>\n",
       "      <td>0.44178741588694087</td>\n",
       "      <td>0.49766445697658906</td>\n",
       "      <td>2.777155918708506</td>\n",
       "      <td>1.046688205168126</td>\n",
       "      <td>2.1936598189733885</td>\n",
       "    </tr>\n",
       "    <tr>\n",
       "      <th>3</th>\n",
       "      <td>min</td>\n",
       "      <td>0.0</td>\n",
       "      <td>0.0</td>\n",
       "      <td>0.0</td>\n",
       "      <td>0.0</td>\n",
       "      <td>12.0</td>\n",
       "      <td>0.0</td>\n",
       "      <td>0.0</td>\n",
       "      <td>0.0</td>\n",
       "      <td>0.0</td>\n",
       "      <td>...</td>\n",
       "      <td>0.0</td>\n",
       "      <td>0.0</td>\n",
       "      <td>1.0</td>\n",
       "      <td>0.0</td>\n",
       "      <td>0.0</td>\n",
       "      <td>0.0</td>\n",
       "      <td>0.0</td>\n",
       "      <td>1.0</td>\n",
       "      <td>1.0</td>\n",
       "      <td>1.0</td>\n",
       "    </tr>\n",
       "    <tr>\n",
       "      <th>4</th>\n",
       "      <td>max</td>\n",
       "      <td>2.0</td>\n",
       "      <td>1.0</td>\n",
       "      <td>1.0</td>\n",
       "      <td>1.0</td>\n",
       "      <td>98.0</td>\n",
       "      <td>1.0</td>\n",
       "      <td>1.0</td>\n",
       "      <td>1.0</td>\n",
       "      <td>1.0</td>\n",
       "      <td>...</td>\n",
       "      <td>1.0</td>\n",
       "      <td>1.0</td>\n",
       "      <td>5.0</td>\n",
       "      <td>9.0</td>\n",
       "      <td>9.0</td>\n",
       "      <td>1.0</td>\n",
       "      <td>1.0</td>\n",
       "      <td>9.0</td>\n",
       "      <td>6.0</td>\n",
       "      <td>8.0</td>\n",
       "    </tr>\n",
       "  </tbody>\n",
       "</table>\n",
       "<p>5 rows × 23 columns</p>\n",
       "</div>"
      ],
      "text/plain": [
       "  summary        Diabetes_012              HighBP            HighChol  \\\n",
       "0   count              674151              674151              674151   \n",
       "1    mean    1.05001698432547  0.5926535746442563  0.5623102242672635   \n",
       "2  stddev  0.8255348514776777  0.4913406895514607  0.4961026113919536   \n",
       "3     min                 0.0                 0.0                 0.0   \n",
       "4     max                 2.0                 1.0                 1.0   \n",
       "\n",
       "             CholCheck                 BMI               Smoker  \\\n",
       "0               674151              674151               674151   \n",
       "1   0.9796692432407577  30.226790437157256  0.48211009106268476   \n",
       "2  0.14112918420131107   7.125116448692973  0.49968021926109957   \n",
       "3                  0.0                12.0                  0.0   \n",
       "4                  1.0                98.0                  1.0   \n",
       "\n",
       "                Stroke HeartDiseaseorAttack        PhysActivity  ...  \\\n",
       "0               674151               674151              674151  ...   \n",
       "1  0.06204099674998628   0.1498788847009053  0.6927706107385437  ...   \n",
       "2  0.24123017595481597   0.3569529291419054  0.4613456484576627  ...   \n",
       "3                  0.0                  0.0                 0.0  ...   \n",
       "4                  1.0                  1.0                 1.0  ...   \n",
       "\n",
       "         AnyHealthcare          NoDocbcCost             GenHlth  \\\n",
       "0               674151               674151              674151   \n",
       "1   0.9519707009260536  0.10496313140527865   2.900133649582957   \n",
       "2  0.21382832676432997   0.3065061366521579  1.0879744230733153   \n",
       "3                  0.0                  0.0                 1.0   \n",
       "4                  1.0                  1.0                 5.0   \n",
       "\n",
       "            MentHlth            PhysHlth             DiffWalk  \\\n",
       "0             674151              674151               674151   \n",
       "1  4.002315504983305   6.061016003832969  0.26585438573850667   \n",
       "2  8.410205547251802  10.195654036001438  0.44178741588694087   \n",
       "3                0.0                 0.0                  0.0   \n",
       "4                9.0                 9.0                  1.0   \n",
       "\n",
       "                   Sex                Age          Education  \\\n",
       "0               674151             674151             674151   \n",
       "1  0.45172520696401847  8.780799850478601  4.872304572714421   \n",
       "2  0.49766445697658906  2.777155918708506  1.046688205168126   \n",
       "3                  0.0                1.0                1.0   \n",
       "4                  1.0                9.0                6.0   \n",
       "\n",
       "               Income  \n",
       "0              674151  \n",
       "1   5.571196957358218  \n",
       "2  2.1936598189733885  \n",
       "3                 1.0  \n",
       "4                 8.0  \n",
       "\n",
       "[5 rows x 23 columns]"
      ]
     },
     "execution_count": 113,
     "metadata": {},
     "output_type": "execute_result"
    }
   ],
   "source": [
    "new_df.describe().toPandas()"
   ]
  },
  {
   "cell_type": "code",
   "execution_count": 114,
   "id": "b74ac024",
   "metadata": {},
   "outputs": [
    {
     "name": "stderr",
     "output_type": "stream",
     "text": [
      "                                                                                \r"
     ]
    },
    {
     "name": "stdout",
     "output_type": "stream",
     "text": [
      "213703\n"
     ]
    },
    {
     "name": "stderr",
     "output_type": "stream",
     "text": [
      "                                                                                \r"
     ]
    },
    {
     "name": "stdout",
     "output_type": "stream",
     "text": [
      "213026\n"
     ]
    },
    {
     "name": "stderr",
     "output_type": "stream",
     "text": [
      "[Stage 1148:==========================================>             (6 + 2) / 8]\r"
     ]
    },
    {
     "name": "stdout",
     "output_type": "stream",
     "text": [
      "247422\n"
     ]
    },
    {
     "name": "stderr",
     "output_type": "stream",
     "text": [
      "\r",
      "                                                                                \r"
     ]
    }
   ],
   "source": [
    "from pyspark.sql.functions import col, explode, array, lit\n",
    "no_dia = new_df.filter(col(\"Diabetes_012\") == 0)\n",
    "print(no_dia.count())\n",
    "pre_dia = new_df.filter(col(\"Diabetes_012\") == 1)\n",
    "print(pre_dia.count())\n",
    "dia = new_df.filter(col(\"Diabetes_012\") == 2)\n",
    "print(dia.count())"
   ]
  },
  {
   "cell_type": "code",
   "execution_count": 115,
   "id": "24f9608f",
   "metadata": {},
   "outputs": [],
   "source": [
    "#Verify Data quality"
   ]
  },
  {
   "cell_type": "code",
   "execution_count": 116,
   "id": "880d743a",
   "metadata": {
    "scrolled": true
   },
   "outputs": [
    {
     "name": "stderr",
     "output_type": "stream",
     "text": [
      "[Stage 1151:============================>                           (1 + 1) / 2]\r"
     ]
    },
    {
     "name": "stdout",
     "output_type": "stream",
     "text": [
      "+------------+------+--------+---------+---+------+------+--------------------+------------+------+-------+-----------------+-------------+-----------+-------+--------+--------+--------+---+---+---------+------+\n",
      "|Diabetes_012|HighBP|HighChol|CholCheck|BMI|Smoker|Stroke|HeartDiseaseorAttack|PhysActivity|Fruits|Veggies|HvyAlcoholConsump|AnyHealthcare|NoDocbcCost|GenHlth|MentHlth|PhysHlth|DiffWalk|Sex|Age|Education|Income|\n",
      "+------------+------+--------+---------+---+------+------+--------------------+------------+------+-------+-----------------+-------------+-----------+-------+--------+--------+--------+---+---+---------+------+\n",
      "|           0|     0|       0|        0|  0|     0|     0|                   0|           0|     0|      0|                0|            0|          0|      0|       0|       0|       0|  0|  0|        0|     0|\n",
      "+------------+------+--------+---------+---+------+------+--------------------+------------+------+-------+-----------------+-------------+-----------+-------+--------+--------+--------+---+---+---------+------+\n",
      "\n"
     ]
    },
    {
     "name": "stderr",
     "output_type": "stream",
     "text": [
      "\r",
      "                                                                                \r"
     ]
    }
   ],
   "source": [
    "from pyspark.sql.functions import col,isnan, when, count\n",
    "df.select([count(when(isnan(c) | col(c).isNull(), c)).alias(c) for c in df.columns]).show()"
   ]
  },
  {
   "cell_type": "code",
   "execution_count": 117,
   "id": "f442fb39",
   "metadata": {},
   "outputs": [],
   "source": [
    "#Data selection"
   ]
  },
  {
   "cell_type": "code",
   "execution_count": 118,
   "id": "2890b4bd",
   "metadata": {},
   "outputs": [
    {
     "name": "stdout",
     "output_type": "stream",
     "text": [
      "root\n",
      " |-- Diabetes_012: string (nullable = true)\n",
      " |-- HighBP: string (nullable = true)\n",
      " |-- HighChol: string (nullable = true)\n",
      " |-- BMI: string (nullable = true)\n",
      " |-- Smoker: string (nullable = true)\n",
      " |-- PhysActivity: string (nullable = true)\n",
      " |-- Fruits: string (nullable = true)\n",
      " |-- Veggies: string (nullable = true)\n",
      " |-- HvyAlcoholConsump: string (nullable = true)\n",
      " |-- Sex: string (nullable = true)\n",
      " |-- Age: string (nullable = true)\n",
      "\n"
     ]
    },
    {
     "data": {
      "text/plain": [
       "Row(Diabetes_012='0.0', HighBP='1.0', HighChol='1.0', BMI='40.0', Smoker='1.0', PhysActivity='0.0', Fruits='0.0', Veggies='1.0', HvyAlcoholConsump='0.0', Sex='0.0', Age='9.0')"
      ]
     },
     "execution_count": 118,
     "metadata": {},
     "output_type": "execute_result"
    }
   ],
   "source": [
    "new_df = df.drop(\"CholCheck\",\"Stroke\", \"HeartDiseaseorAttack\", \"AnyHealthcare\",\"NoDocbcCost\",\"GenHlth\",\"MentHlth\",\"PhysHlth\",\"DiffWalk\",\"Income\", \"Education\") \n",
    "new_df.printSchema()\n",
    "new_df.head()"
   ]
  },
  {
   "cell_type": "code",
   "execution_count": 119,
   "id": "129e9bd0",
   "metadata": {},
   "outputs": [],
   "source": [
    "#Cleaning the data"
   ]
  },
  {
   "cell_type": "code",
   "execution_count": 120,
   "id": "f5fca1d4",
   "metadata": {},
   "outputs": [],
   "source": [
    "new_df = new_df.withColumn(\"Age\",new_df.Age.cast('int'))\n",
    "new_df = new_df.withColumn(\"Diabetes_012\",new_df.Diabetes_012.cast('int'))\n",
    "new_df = new_df.withColumn(\"HighBP\",new_df.HighBP.cast('int'))\n",
    "new_df = new_df.withColumn(\"HighChol\",new_df.HighChol.cast('int'))\n",
    "new_df = new_df.withColumn(\"BMI\",new_df.BMI.cast('int'))\n",
    "new_df = new_df.withColumn(\"Smoker\",new_df.Smoker.cast('int'))\n",
    "new_df = new_df.withColumn(\"PhysActivity\",new_df.PhysActivity.cast('int'))\n",
    "new_df = new_df.withColumn(\"Fruits\",new_df.Fruits.cast('int'))\n",
    "new_df = new_df.withColumn(\"Veggies\",new_df.Veggies.cast('int'))\n",
    "new_df = new_df.withColumn(\"HvyAlcoholConsump\",new_df.HvyAlcoholConsump.cast('int'))\n",
    "new_df = new_df.withColumn(\"Sex\",new_df.Sex.cast('int'))"
   ]
  },
  {
   "cell_type": "code",
   "execution_count": 121,
   "id": "5a9ed8e3",
   "metadata": {},
   "outputs": [
    {
     "name": "stderr",
     "output_type": "stream",
     "text": [
      "[Stage 1165:============================>                           (1 + 1) / 2]\r"
     ]
    },
    {
     "name": "stdout",
     "output_type": "stream",
     "text": [
      "{'Diabetes_012': {'low': 0.0, 'high': 2.0}, 'HighBP': {'low': 0.0, 'high': 1.0}, 'HighChol': {'low': 0.0, 'high': 1.0}, 'BMI': {'low': 22.0, 'high': 36.0}, 'Smoker': {'low': 0.0, 'high': 1.0}, 'PhysActivity': {'low': 0.0, 'high': 1.0}, 'Fruits': {'low': 0.0, 'high': 1.0}, 'Veggies': {'low': 0.0, 'high': 1.0}, 'HvyAlcoholConsump': {'low': 0.0, 'high': 0.0}, 'Sex': {'low': 0.0, 'high': 1.0}, 'Age': {'low': 4.0, 'high': 12.0}}\n"
     ]
    },
    {
     "name": "stderr",
     "output_type": "stream",
     "text": [
      "\r",
      "                                                                                \r"
     ]
    }
   ],
   "source": [
    "import pyspark.sql.functions as f\n",
    "\n",
    "bounds = {\n",
    "    c: dict(\n",
    "        zip([\"low\", \"high\"], new_df.approxQuantile(c, [0.1, 0.90], 0))\n",
    "    )\n",
    "    for c in new_df.columns\n",
    "}\n",
    "print(bounds)"
   ]
  },
  {
   "cell_type": "code",
   "execution_count": 122,
   "id": "60a681b6",
   "metadata": {},
   "outputs": [
    {
     "name": "stdout",
     "output_type": "stream",
     "text": [
      "Row(max(BMI)=32)\n",
      "Row(min(BMI)=24)\n"
     ]
    }
   ],
   "source": [
    "from pyspark.sql.functions import col\n",
    "new_df = new_df.filter(col(\"BMI\") > 23)\n",
    "new_df = new_df.filter(col(\"BMI\") < 33)\n",
    "row1 = new_df.agg({\"BMI\": \"max\"}).collect()[0]\n",
    "print(row1)\n",
    "row1 = new_df.agg({\"BMI\": \"min\"}).collect()[0]\n",
    "print(row1)"
   ]
  },
  {
   "cell_type": "code",
   "execution_count": 123,
   "id": "81355bfe",
   "metadata": {},
   "outputs": [
    {
     "name": "stderr",
     "output_type": "stream",
     "text": [
      "                                                                                \r"
     ]
    },
    {
     "data": {
      "text/plain": [
       "<AxesSubplot: >"
      ]
     },
     "execution_count": 123,
     "metadata": {},
     "output_type": "execute_result"
    },
    {
     "data": {
      "image/png": "[encoded data removed]",
      "text/plain": [
       "<Figure size 432x288 with 1 Axes>"
      ]
     },
     "metadata": {
      "needs_background": "light"
     },
     "output_type": "display_data"
    }
   ],
   "source": [
    "dfaa = new_df.toPandas()\n",
    "dfaa['BMI']=dfaa['BMI'].astype(float)\n",
    "dfaa.boxplot(column='BMI')"
   ]
  },
  {
   "cell_type": "code",
   "execution_count": 124,
   "id": "a9df5482",
   "metadata": {},
   "outputs": [],
   "source": [
    "#Construct New data - BMI Group"
   ]
  },
  {
   "cell_type": "code",
   "execution_count": 125,
   "id": "d5677171",
   "metadata": {},
   "outputs": [],
   "source": [
    "from pyspark.sql.functions import when\n",
    "new_df = new_df.withColumn(\"BMI_Group\", \\\n",
    "   when((new_df.BMI < 18.5), lit(\"underweight\")) \\\n",
    "     .when((new_df.BMI >= 18.5) & (new_df.BMI <= 25), lit(\"healthy weight\")) \\\n",
    "     .when((new_df.BMI >= 25) & (new_df.BMI <= 30), lit(\"overweight\")) \\\n",
    "     .otherwise(lit(\"obesity\")) \\\n",
    "  )"
   ]
  },
  {
   "cell_type": "code",
   "execution_count": 126,
   "id": "4a955691",
   "metadata": {},
   "outputs": [],
   "source": [
    "#Construct New data - Age group"
   ]
  },
  {
   "cell_type": "code",
   "execution_count": 127,
   "id": "88df0d3a",
   "metadata": {},
   "outputs": [],
   "source": [
    "from pyspark.sql.functions import when\n",
    "new_df = new_df.withColumn(\"Age_group\", \\\n",
    "   when((new_df.Age == 1 ), lit(\"18-24\")) \\\n",
    "     .when((new_df.Age == 2), lit(\"24-30\")) \\\n",
    "     .when((new_df.Age == 3), lit(\"30-36\")) \\\n",
    "     .when((new_df.Age == 4), lit(\"36-42\")) \\\n",
    "     .when((new_df.Age == 5), lit(\"42-48\")) \\\n",
    "     .when((new_df.Age == 6), lit(\"48-54\")) \\\n",
    "     .when((new_df.Age == 7), lit(\"54-60\")) \\\n",
    "     .when((new_df.Age == 8), lit(\"60-66\")) \\\n",
    "     .when((new_df.Age == 9), lit(\"66-72\")) \\\n",
    "     .when((new_df.Age == 10), lit(\"72-78\")) \\\n",
    "     .when((new_df.Age == 11), lit(\"78-84\")) \\\n",
    "     .when((new_df.Age == 12), lit(\"84-90\")) \\\n",
    "     .otherwise(lit(\"90+\")) \\\n",
    "  )\n"
   ]
  },
  {
   "cell_type": "code",
   "execution_count": 128,
   "id": "2019bd61",
   "metadata": {},
   "outputs": [
    {
     "name": "stdout",
     "output_type": "stream",
     "text": [
      "+------------+------+--------+---+------+------------+------+-------+-----------------+---+---+--------------+---------+---+\n",
      "|Diabetes_012|HighBP|HighChol|BMI|Smoker|PhysActivity|Fruits|Veggies|HvyAlcoholConsump|Sex|Age|     BMI_Group|Age_group| ID|\n",
      "+------------+------+--------+---+------+------------+------+-------+-----------------+---+---+--------------+---------+---+\n",
      "|           0|     0|       0| 25|     1|           1|     0|      0|                0|  0|  7|healthy weight|    54-60|  0|\n",
      "|           0|     1|       1| 28|     0|           0|     1|      0|                0|  0|  9|    overweight|    66-72|  1|\n",
      "|           0|     1|       0| 27|     0|           1|     1|      1|                0|  0| 11|    overweight|    78-84|  2|\n",
      "|           0|     1|       1| 24|     0|           1|     1|      1|                0|  0| 11|healthy weight|    78-84|  3|\n",
      "|           0|     1|       1| 25|     1|           1|     1|      1|                0|  1| 10|healthy weight|    72-78|  4|\n",
      "|           0|     1|       0| 30|     1|           0|     0|      0|                0|  0|  9|    overweight|    66-72|  5|\n",
      "|           0|     1|       1| 25|     1|           1|     0|      1|                0|  0| 11|healthy weight|    78-84|  6|\n",
      "|           2|     1|       1| 30|     1|           0|     1|      1|                0|  0|  9|    overweight|    66-72|  7|\n",
      "|           0|     0|       0| 24|     0|           0|     0|      1|                0|  1|  8|healthy weight|    60-66|  8|\n",
      "|           2|     0|       0| 25|     1|           1|     1|      1|                0|  1| 13|healthy weight|      90+|  9|\n",
      "|           0|     0|       0| 26|     1|           0|     0|      1|                0|  0|  7|    overweight|    54-60| 10|\n",
      "|           2|     1|       1| 28|     0|           0|     0|      1|                0|  0| 11|    overweight|    78-84| 11|\n",
      "|           0|     0|       1| 28|     0|           0|     0|      0|                1|  1|  4|    overweight|    36-42| 12|\n",
      "|           0|     0|       0| 28|     1|           0|     0|      1|                0|  1|  5|    overweight|    42-48| 13|\n",
      "|           2|     1|       0| 27|     0|           1|     1|      1|                0|  0| 13|    overweight|      90+| 14|\n",
      "|           0|     1|       1| 28|     1|           0|     1|      1|                0|  0|  9|    overweight|    66-72| 15|\n",
      "|           0|     0|       0| 32|     0|           1|     1|      1|                0|  0|  5|       obesity|    42-48| 16|\n",
      "|           2|     1|       1| 28|     1|           0|     0|      1|                0|  1| 12|    overweight|    84-90| 17|\n",
      "|           2|     1|       1| 27|     1|           0|     1|      1|                0|  0|  8|    overweight|    60-66| 18|\n",
      "|           0|     0|       1| 31|     1|           1|     1|      1|                0|  1| 12|       obesity|    84-90| 19|\n",
      "+------------+------+--------+---+------+------------+------+-------+-----------------+---+---+--------------+---------+---+\n",
      "only showing top 20 rows\n",
      "\n"
     ]
    }
   ],
   "source": [
    "from pyspark.sql.functions import monotonically_increasing_id \n",
    "new_df_index = new_df.select(\"*\").withColumn(\"ID\", monotonically_increasing_id())\n",
    "new_df_index.show()"
   ]
  },
  {
   "cell_type": "code",
   "execution_count": 129,
   "id": "89cde045",
   "metadata": {},
   "outputs": [],
   "source": [
    "df = df.withColumn(\"Age\",df.Age.cast('int'))\n",
    "df = df.withColumn(\"Diabetes_012\",df.Diabetes_012.cast('int'))\n",
    "df = df.withColumn(\"HighBP\",df.HighBP.cast('int'))\n",
    "df = df.withColumn(\"HighChol\",df.HighChol.cast('int'))\n",
    "df = df.withColumn(\"BMI\",df.BMI.cast('int'))\n",
    "df = df.withColumn(\"Smoker\",df.Smoker.cast('int'))\n",
    "df = df.withColumn(\"PhysActivity\",df.PhysActivity.cast('int'))\n",
    "df = df.withColumn(\"Fruits\",df.Fruits.cast('int'))\n",
    "df = df.withColumn(\"Veggies\",df.Veggies.cast('int'))\n",
    "df = df.withColumn(\"HvyAlcoholConsump\",df.HvyAlcoholConsump.cast('int'))\n",
    "df = df.withColumn(\"Sex\",df.Sex.cast('int'))\n",
    "df = df.drop(\"CholCheck\",\"Stroke\", \"HeartDiseaseorAttack\", \"AnyHealthcare\",\"NoDocbcCost\",\"GenHlth\",\"MentHlth\",\"PhysHlth\",\"DiffWalk\",\"Income\", \"Education\") "
   ]
  },
  {
   "cell_type": "code",
   "execution_count": 130,
   "id": "fd347ddc",
   "metadata": {},
   "outputs": [
    {
     "data": {
      "text/plain": [
       "('Diabetes_012',\n",
       " 'HighBP',\n",
       " 'HighChol',\n",
       " 'BMI',\n",
       " 'Smoker',\n",
       " 'PhysActivity',\n",
       " 'Fruits',\n",
       " 'Veggies',\n",
       " 'HvyAlcoholConsump',\n",
       " 'Sex',\n",
       " 'Age')"
      ]
     },
     "execution_count": 130,
     "metadata": {},
     "output_type": "execute_result"
    }
   ],
   "source": [
    "'Diabetes_012', 'HighBP', 'HighChol', 'BMI', 'Smoker', 'PhysActivity', 'Fruits', 'Veggies', 'HvyAlcoholConsump', 'Sex', 'Age'"
   ]
  },
  {
   "cell_type": "code",
   "execution_count": 131,
   "id": "f5729d53",
   "metadata": {
    "scrolled": true
   },
   "outputs": [
    {
     "name": "stderr",
     "output_type": "stream",
     "text": [
      "/home/ubuntu/spark-3.2.1-bin-hadoop2.7/python/pyspark/sql/context.py:77: FutureWarning: Deprecated in 3.0.0. Use SparkSession.builder.getOrCreate() instead.\n",
      "  warnings.warn(\n"
     ]
    },
    {
     "data": {
      "text/plain": [
       "[('Diabetes_012', 'int'),\n",
       " ('HighBP', 'int'),\n",
       " ('HighChol', 'int'),\n",
       " ('BMI', 'int'),\n",
       " ('Smoker', 'int'),\n",
       " ('PhysActivity', 'int'),\n",
       " ('Fruits', 'int'),\n",
       " ('Veggies', 'int'),\n",
       " ('HvyAlcoholConsump', 'int'),\n",
       " ('Sex', 'int'),\n",
       " ('Age', 'int')]"
      ]
     },
     "execution_count": 131,
     "metadata": {},
     "output_type": "execute_result"
    }
   ],
   "source": [
    "from pyspark import SparkContext\n",
    "from pyspark import SQLContext\n",
    "sc = SparkContext.getOrCreate()\n",
    "spark = SQLContext(sc)\n",
    "from pyspark.sql.functions import *\n",
    "from pyspark.ml.classification import  RandomForestClassifier\n",
    "from pyspark.ml.feature import StringIndexer, OneHotEncoder, VectorAssembler, VectorSlicer\n",
    "from pyspark.ml import Pipeline\n",
    "from pyspark.ml.evaluation import BinaryClassificationEvaluator\n",
    "from pyspark.ml.linalg import Vectors\n",
    "df.dtypes"
   ]
  },
  {
   "cell_type": "code",
   "execution_count": 132,
   "id": "65296651",
   "metadata": {},
   "outputs": [],
   "source": [
    "#Construct feature selection using Chi square selector"
   ]
  },
  {
   "cell_type": "code",
   "execution_count": 133,
   "id": "75560117",
   "metadata": {},
   "outputs": [
    {
     "name": "stderr",
     "output_type": "stream",
     "text": [
      "                                                                                \r"
     ]
    }
   ],
   "source": [
    "data = spark.read.csv('./diabetes_binary_health_indicators_BRFSS2015.csv',inferSchema=True,header=True)\n",
    "assembler = VectorAssembler(inputCols=[\n",
    " 'HighBP', 'HighChol', 'BMI'\n",
    "],outputCol='features')\n",
    "output = assembler.transform(data)"
   ]
  },
  {
   "cell_type": "code",
   "execution_count": 134,
   "id": "ce359c11",
   "metadata": {},
   "outputs": [
    {
     "name": "stderr",
     "output_type": "stream",
     "text": [
      "                                                                                \r"
     ]
    },
    {
     "data": {
      "text/plain": [
       "Row(features=DenseVector([1.0, 1.0, 40.0]), Diabetes_012Index=0.0)"
      ]
     },
     "execution_count": 134,
     "metadata": {},
     "output_type": "execute_result"
    }
   ],
   "source": [
    "indexer = StringIndexer(inputCol=\"Diabetes_binary\", outputCol=\"Diabetes_012Index\")\n",
    "output_fixed = indexer.fit(output).transform(output)\n",
    "final_data = output_fixed.select(\"features\",'Diabetes_012Index')\n",
    "final_data.head()"
   ]
  },
  {
   "cell_type": "code",
   "execution_count": 135,
   "id": "7913026c",
   "metadata": {},
   "outputs": [
    {
     "name": "stderr",
     "output_type": "stream",
     "text": [
      "                                                                                \r"
     ]
    },
    {
     "name": "stdout",
     "output_type": "stream",
     "text": [
      "+--------------+-----------------+----------------+\n",
      "|      features|Diabetes_012Index|selectedFeatures|\n",
      "+--------------+-----------------+----------------+\n",
      "|[1.0,1.0,40.0]|              0.0|  [1.0,1.0,40.0]|\n",
      "|[0.0,0.0,25.0]|              0.0|  [0.0,0.0,25.0]|\n",
      "|[1.0,1.0,28.0]|              0.0|  [1.0,1.0,28.0]|\n",
      "|[1.0,0.0,27.0]|              0.0|  [1.0,0.0,27.0]|\n",
      "|[1.0,1.0,24.0]|              0.0|  [1.0,1.0,24.0]|\n",
      "|[1.0,1.0,25.0]|              0.0|  [1.0,1.0,25.0]|\n",
      "|[1.0,0.0,30.0]|              0.0|  [1.0,0.0,30.0]|\n",
      "|[1.0,1.0,25.0]|              0.0|  [1.0,1.0,25.0]|\n",
      "|[1.0,1.0,30.0]|              1.0|  [1.0,1.0,30.0]|\n",
      "|[0.0,0.0,24.0]|              0.0|  [0.0,0.0,24.0]|\n",
      "|[0.0,0.0,25.0]|              1.0|  [0.0,0.0,25.0]|\n",
      "|[1.0,1.0,34.0]|              0.0|  [1.0,1.0,34.0]|\n",
      "|[0.0,0.0,26.0]|              0.0|  [0.0,0.0,26.0]|\n",
      "|[1.0,1.0,28.0]|              1.0|  [1.0,1.0,28.0]|\n",
      "|[0.0,1.0,33.0]|              0.0|  [0.0,1.0,33.0]|\n",
      "|[1.0,0.0,33.0]|              0.0|  [1.0,0.0,33.0]|\n",
      "|[1.0,1.0,21.0]|              0.0|  [1.0,1.0,21.0]|\n",
      "|[0.0,0.0,23.0]|              1.0|  [0.0,0.0,23.0]|\n",
      "|[0.0,0.0,23.0]|              0.0|  [0.0,0.0,23.0]|\n",
      "|[0.0,1.0,28.0]|              0.0|  [0.0,1.0,28.0]|\n",
      "+--------------+-----------------+----------------+\n",
      "only showing top 20 rows\n",
      "\n"
     ]
    }
   ],
   "source": [
    "from pyspark.ml.feature import ChiSqSelector\n",
    "selector = ChiSqSelector(numTopFeatures=3, featuresCol='features', labelCol = 'Diabetes_012Index', outputCol='selectedFeatures')\n",
    "model = selector.fit(final_data)\n",
    "model.transform(final_data).show()\n"
   ]
  },
  {
   "cell_type": "code",
   "execution_count": 136,
   "id": "74d6d01b",
   "metadata": {},
   "outputs": [],
   "source": [
    "df = df.drop('Smoker', 'PhysActivity', 'Fruits', 'Veggies', 'HvyAlcoholConsump', 'Sex', 'Age')"
   ]
  },
  {
   "cell_type": "code",
   "execution_count": 137,
   "id": "c2c07591",
   "metadata": {},
   "outputs": [],
   "source": [
    "#Build logistics regression"
   ]
  },
  {
   "cell_type": "code",
   "execution_count": 138,
   "id": "c20934d2",
   "metadata": {},
   "outputs": [],
   "source": [
    "spark = SparkSession.builder.appName('logistic_regression_docs').getOrCreate()\n",
    "from pyspark.ml.classification import LogisticRegression\n",
    "from pyspark.ml.feature import (VectorAssembler,VectorIndexer,\n",
    "                                OneHotEncoder,StringIndexer)"
   ]
  },
  {
   "cell_type": "code",
   "execution_count": 139,
   "id": "e2ab8333",
   "metadata": {},
   "outputs": [],
   "source": [
    "HighBP_indexer = StringIndexer(inputCol='HighBP',outputCol='HighBPIndex')\n",
    "HighBP_encoder = OneHotEncoder(inputCol='HighBPIndex',outputCol='HighBPVec')\n",
    "HighChol_indexer = StringIndexer(inputCol='HighChol',outputCol='HighCholIndex')\n",
    "HighChol_encoder = OneHotEncoder(inputCol='HighCholIndex',outputCol='HighCholVec')\n",
    "BMI_indexer = StringIndexer(inputCol='BMI',outputCol='BMIIndex')\n",
    "BMI_encoder = OneHotEncoder(inputCol='BMIIndex',outputCol='BMIVec')\n"
   ]
  },
  {
   "cell_type": "code",
   "execution_count": 140,
   "id": "4e685621",
   "metadata": {},
   "outputs": [],
   "source": [
    "assembler = VectorAssembler(inputCols=[\n",
    " 'HighBP',\n",
    " 'HighChol',\n",
    " 'BMI'],outputCol='features')"
   ]
  },
  {
   "cell_type": "code",
   "execution_count": 141,
   "id": "2f964b52",
   "metadata": {},
   "outputs": [],
   "source": [
    "from pyspark.ml import Pipeline"
   ]
  },
  {
   "cell_type": "code",
   "execution_count": 142,
   "id": "a13ba267",
   "metadata": {},
   "outputs": [],
   "source": [
    "log_reg_diabete = LogisticRegression(featuresCol='features',labelCol='Diabetes_012')"
   ]
  },
  {
   "cell_type": "code",
   "execution_count": 143,
   "id": "51fb1d65",
   "metadata": {},
   "outputs": [],
   "source": [
    "pipeline = Pipeline(stages=[HighBP_indexer,HighChol_indexer,BMI_indexer,\n",
    "                           HighBP_encoder,HighChol_encoder,BMI_encoder,\n",
    "                           assembler,log_reg_diabete])"
   ]
  },
  {
   "cell_type": "code",
   "execution_count": 144,
   "id": "f964f460",
   "metadata": {},
   "outputs": [],
   "source": [
    "train_diabete_data, test_diabete_data = df.randomSplit([0.7,0.3])"
   ]
  },
  {
   "cell_type": "code",
   "execution_count": 145,
   "id": "9927f3eb",
   "metadata": {},
   "outputs": [
    {
     "name": "stderr",
     "output_type": "stream",
     "text": [
      "                                                                                \r"
     ]
    }
   ],
   "source": [
    "fit_model = pipeline.fit(train_diabete_data)"
   ]
  },
  {
   "cell_type": "code",
   "execution_count": 146,
   "id": "54f1d800",
   "metadata": {},
   "outputs": [],
   "source": [
    "results = fit_model.transform(test_diabete_data)"
   ]
  },
  {
   "cell_type": "code",
   "execution_count": 147,
   "id": "689c1d97",
   "metadata": {},
   "outputs": [],
   "source": [
    "from pyspark.ml.evaluation import BinaryClassificationEvaluator\n",
    "\n",
    "my_eval = BinaryClassificationEvaluator(rawPredictionCol='prediction',\n",
    "                                       labelCol='Diabetes_012')"
   ]
  },
  {
   "cell_type": "code",
   "execution_count": 148,
   "id": "ee36c3bd",
   "metadata": {},
   "outputs": [
    {
     "name": "stderr",
     "output_type": "stream",
     "text": [
      "                                                                                \r"
     ]
    },
    {
     "data": {
      "text/plain": [
       "0.5188685878578169"
      ]
     },
     "execution_count": 148,
     "metadata": {},
     "output_type": "execute_result"
    }
   ],
   "source": [
    "AUC = my_eval.evaluate(results)\n",
    "\n",
    "AUC"
   ]
  },
  {
   "cell_type": "code",
   "execution_count": 149,
   "id": "6eba5973",
   "metadata": {},
   "outputs": [
    {
     "name": "stderr",
     "output_type": "stream",
     "text": [
      "                                                                                \r"
     ]
    },
    {
     "name": "stdout",
     "output_type": "stream",
     "text": [
      "Correct: 76072\n"
     ]
    },
    {
     "name": "stderr",
     "output_type": "stream",
     "text": [
      "[Stage 1227:============================>                           (1 + 1) / 2]\r"
     ]
    },
    {
     "name": "stdout",
     "output_type": "stream",
     "text": [
      "Total Correct: 63883\n"
     ]
    },
    {
     "name": "stderr",
     "output_type": "stream",
     "text": [
      "\r",
      "                                                                                \r"
     ]
    }
   ],
   "source": [
    "totalResults = results.select('Diabetes_012','prediction')\n",
    "\n",
    "correctResults = totalResults.filter(totalResults['Diabetes_012'] == totalResults['prediction'])\n",
    "\n",
    "countTR = totalResults.count()\n",
    "print(\"Correct: \" + str(countTR))\n",
    "\n",
    "countTC = correctResults.count()\n",
    "print(\"Total Correct: \" + str(countTC)) "
   ]
  },
  {
   "cell_type": "code",
   "execution_count": 180,
   "id": "8a8a93c6",
   "metadata": {},
   "outputs": [],
   "source": [
    "from pyspark import SparkContext\n",
    "from pyspark import SQLContext\n",
    "sc = SparkContext.getOrCreate()\n",
    "spark = SQLContext(sc)\n",
    "assembler = VectorAssembler(inputCols=[\n",
    " 'HighBP',\n",
    " 'HighChol',\n",
    " 'BMI'],outputCol='features')\n"
   ]
  },
  {
   "cell_type": "code",
   "execution_count": 196,
   "id": "c3dd1935",
   "metadata": {},
   "outputs": [],
   "source": [
    "#Construct random forest"
   ]
  },
  {
   "cell_type": "code",
   "execution_count": 197,
   "id": "a56070a6",
   "metadata": {},
   "outputs": [
    {
     "name": "stderr",
     "output_type": "stream",
     "text": [
      "                                                                                \r"
     ]
    }
   ],
   "source": [
    "data = spark.read.csv('./diabetes_binary_health_indicators_BRFSS2015.csv',inferSchema=True,header=True)"
   ]
  },
  {
   "cell_type": "code",
   "execution_count": 198,
   "id": "ed91ac94",
   "metadata": {},
   "outputs": [],
   "source": [
    "from pyspark.ml.feature import StringIndexer"
   ]
  },
  {
   "cell_type": "code",
   "execution_count": 199,
   "id": "5c412761",
   "metadata": {},
   "outputs": [],
   "source": [
    "output = assembler.transform(data)"
   ]
  },
  {
   "cell_type": "code",
   "execution_count": 200,
   "id": "47e0d6a0",
   "metadata": {},
   "outputs": [],
   "source": [
    "indexer = StringIndexer(inputCol=\"Diabetes_binary\", outputCol=\"Diabetes_012Index\")\n",
    "output_fixed = indexer.fit(output).transform(output)"
   ]
  },
  {
   "cell_type": "code",
   "execution_count": 201,
   "id": "61934429",
   "metadata": {},
   "outputs": [],
   "source": [
    "final_data = output_fixed.select(\"features\",'Diabetes_012Index')"
   ]
  },
  {
   "cell_type": "code",
   "execution_count": 202,
   "id": "0e993190",
   "metadata": {},
   "outputs": [],
   "source": [
    "train_data,test_data = final_data.randomSplit([0.8,0.2])"
   ]
  },
  {
   "cell_type": "code",
   "execution_count": 203,
   "id": "d540ba45",
   "metadata": {},
   "outputs": [],
   "source": [
    "from pyspark.ml.classification import DecisionTreeClassifier,GBTClassifier,RandomForestClassifier\n",
    "from pyspark.ml import Pipeline"
   ]
  },
  {
   "cell_type": "code",
   "execution_count": 204,
   "id": "235c9647",
   "metadata": {},
   "outputs": [],
   "source": [
    "dtc = DecisionTreeClassifier(labelCol='Diabetes_012Index',featuresCol='features')\n",
    "rfc = RandomForestClassifier(labelCol='Diabetes_012Index',featuresCol='features')\n",
    "gbt = GBTClassifier(labelCol='Diabetes_012Index',featuresCol='features')"
   ]
  },
  {
   "cell_type": "code",
   "execution_count": 205,
   "id": "fd037e19",
   "metadata": {},
   "outputs": [
    {
     "name": "stderr",
     "output_type": "stream",
     "text": [
      "                                                                                \r"
     ]
    }
   ],
   "source": [
    "dtc_model = dtc.fit(train_data)\n",
    "rfc_model = rfc.fit(train_data)\n",
    "gbt_model = gbt.fit(train_data)"
   ]
  },
  {
   "cell_type": "code",
   "execution_count": 206,
   "id": "b0f6690c",
   "metadata": {},
   "outputs": [],
   "source": [
    "dtc_predictions = dtc_model.transform(test_data)\n",
    "rfc_predictions = rfc_model.transform(test_data)\n",
    "gbt_predictions = gbt_model.transform(test_data)"
   ]
  },
  {
   "cell_type": "code",
   "execution_count": 207,
   "id": "8b843f6d",
   "metadata": {},
   "outputs": [],
   "source": [
    "from pyspark.ml.evaluation import BinaryClassificationEvaluator\n",
    "my_binary_eval = BinaryClassificationEvaluator(labelCol = 'Diabetes_012Index')"
   ]
  },
  {
   "cell_type": "code",
   "execution_count": 208,
   "id": "ffb71bd7",
   "metadata": {},
   "outputs": [
    {
     "name": "stdout",
     "output_type": "stream",
     "text": [
      "DTC\n"
     ]
    },
    {
     "name": "stderr",
     "output_type": "stream",
     "text": [
      "\r",
      "[Stage 2513:>                                                       (0 + 2) / 2]\r"
     ]
    },
    {
     "name": "stdout",
     "output_type": "stream",
     "text": [
      "0.45930959233603397\n"
     ]
    },
    {
     "name": "stderr",
     "output_type": "stream",
     "text": [
      "\r",
      "[Stage 2513:============================>                           (1 + 1) / 2]\r",
      "\r",
      "                                                                                \r"
     ]
    }
   ],
   "source": [
    "print(\"DTC\")\n",
    "print(my_binary_eval.evaluate(dtc_predictions))"
   ]
  },
  {
   "cell_type": "code",
   "execution_count": 209,
   "id": "124c3274",
   "metadata": {},
   "outputs": [
    {
     "name": "stdout",
     "output_type": "stream",
     "text": [
      "RFC\n"
     ]
    },
    {
     "name": "stderr",
     "output_type": "stream",
     "text": [
      "[Stage 2524:============================>                           (1 + 1) / 2]\r"
     ]
    },
    {
     "name": "stdout",
     "output_type": "stream",
     "text": [
      "0.7446050084251519\n"
     ]
    },
    {
     "name": "stderr",
     "output_type": "stream",
     "text": [
      "\r",
      "                                                                                \r"
     ]
    }
   ],
   "source": [
    "print(\"RFC\")\n",
    "print(my_binary_eval.evaluate(rfc_predictions))\n",
    "my_binary_gbt_eval = BinaryClassificationEvaluator(labelCol='Diabetes_012Index', rawPredictionCol='prediction')"
   ]
  },
  {
   "cell_type": "code",
   "execution_count": 210,
   "id": "84b5abbc",
   "metadata": {},
   "outputs": [
    {
     "name": "stdout",
     "output_type": "stream",
     "text": [
      "GBT\n"
     ]
    },
    {
     "name": "stderr",
     "output_type": "stream",
     "text": [
      "[Stage 2535:============================>                           (1 + 1) / 2]\r"
     ]
    },
    {
     "name": "stdout",
     "output_type": "stream",
     "text": [
      "0.5114120525977262\n"
     ]
    },
    {
     "name": "stderr",
     "output_type": "stream",
     "text": [
      "\r",
      "                                                                                \r"
     ]
    }
   ],
   "source": [
    "print(\"GBT\")\n",
    "print(my_binary_gbt_eval.evaluate(gbt_predictions))"
   ]
  },
  {
   "cell_type": "code",
   "execution_count": 166,
   "id": "18e2cb56",
   "metadata": {},
   "outputs": [],
   "source": [
    "assembler = VectorAssembler(inputCols=[\n",
    " 'HighBP', 'HighChol', 'BMI'],outputCol='features')"
   ]
  },
  {
   "cell_type": "code",
   "execution_count": 167,
   "id": "d78ff4e3",
   "metadata": {},
   "outputs": [],
   "source": [
    "from pyspark.ml.evaluation import MulticlassClassificationEvaluator"
   ]
  },
  {
   "cell_type": "code",
   "execution_count": 168,
   "id": "dd389974",
   "metadata": {},
   "outputs": [],
   "source": [
    "acc_evaluator = MulticlassClassificationEvaluator(labelCol=\"Diabetes_012Index\", predictionCol=\"prediction\", metricName=\"accuracy\")"
   ]
  },
  {
   "cell_type": "code",
   "execution_count": 169,
   "id": "f72a7242",
   "metadata": {},
   "outputs": [
    {
     "name": "stderr",
     "output_type": "stream",
     "text": [
      "                                                                                \r"
     ]
    }
   ],
   "source": [
    "dtc_acc = acc_evaluator.evaluate(dtc_predictions)\n",
    "rfc_acc = acc_evaluator.evaluate(rfc_predictions)\n",
    "gbt_acc = acc_evaluator.evaluate(gbt_predictions)"
   ]
  },
  {
   "cell_type": "code",
   "execution_count": 170,
   "id": "6fdfde7f",
   "metadata": {},
   "outputs": [
    {
     "name": "stdout",
     "output_type": "stream",
     "text": [
      "Here are the results!\n",
      "----------------------------------------\n",
      "A single decision tree has an accuracy of: 86.20%\n",
      "----------------------------------------\n",
      "A random forest ensemble has an accuracy of: 86.07%\n",
      "----------------------------------------\n",
      "An ensemble using GBT has an accuracy of: 86.14%\n"
     ]
    }
   ],
   "source": [
    "print(\"Here are the results!\")\n",
    "print('-'*40)\n",
    "print('A single decision tree has an accuracy of: {0:2.2f}%'.format(dtc_acc*100))\n",
    "print('-'*40)\n",
    "print('A random forest ensemble has an accuracy of: {0:2.2f}%'.format(rfc_acc*100))\n",
    "print('-'*40)\n",
    "print('An ensemble using GBT has an accuracy of: {0:2.2f}%'.format(gbt_acc*100))"
   ]
  },
  {
   "cell_type": "code",
   "execution_count": 171,
   "id": "5bc252f1",
   "metadata": {},
   "outputs": [],
   "source": [
    "#Construct Linear SVC"
   ]
  },
  {
   "cell_type": "code",
   "execution_count": 172,
   "id": "eef482ca",
   "metadata": {},
   "outputs": [
    {
     "name": "stdout",
     "output_type": "stream",
     "text": [
      "Linear SVC \n"
     ]
    },
    {
     "name": "stderr",
     "output_type": "stream",
     "text": [
      "22/10/14 09:31:21 ERROR OWLQN: Failure! Resetting history: breeze.optimize.NaNHistory: \n",
      "[Stage 1985:============================>                           (1 + 1) / 2]\r"
     ]
    },
    {
     "name": "stdout",
     "output_type": "stream",
     "text": [
      "Accuracy:  0.7626730086745975\n"
     ]
    },
    {
     "name": "stderr",
     "output_type": "stream",
     "text": [
      "\r",
      "                                                                                \r"
     ]
    }
   ],
   "source": [
    "from pyspark.ml.classification import LinearSVC\n",
    "print(\"Linear SVC \")\n",
    "svc = LinearSVC(labelCol=\"Diabetes_012Index\", featuresCol = \"features\")\n",
    "svc_model = svc.fit(train_data)\n",
    "svc_predictions = svc_model.transform(test_data)\n",
    "binary_eval = BinaryClassificationEvaluator(labelCol = 'Diabetes_012Index')\n",
    "print(\"Accuracy: \",binary_eval.evaluate(svc_predictions))\n"
   ]
  },
  {
   "cell_type": "code",
   "execution_count": 173,
   "id": "80f35931",
   "metadata": {},
   "outputs": [],
   "source": [
    "from pyspark.ml.feature import PCA\n",
    "from pyspark.ml.classification import LogisticRegression\n",
    "from pyspark.ml.feature import VectorAssembler"
   ]
  },
  {
   "cell_type": "code",
   "execution_count": 174,
   "id": "6416dbdc",
   "metadata": {},
   "outputs": [],
   "source": [
    "assembler = VectorAssembler(inputCols=[\n",
    " 'HighBP', 'HighChol', 'BMI', 'Smoker', 'PhysActivity', 'Fruits', 'Veggies', 'HvyAlcoholConsump', 'Sex', 'Age'],outputCol='features')\n",
    "finalData = assembler.transform(data)\n",
    "train, test = finalData.randomSplit([0.7,0.3])\n"
   ]
  },
  {
   "cell_type": "code",
   "execution_count": 175,
   "id": "a43b99c7",
   "metadata": {},
   "outputs": [
    {
     "name": "stderr",
     "output_type": "stream",
     "text": [
      "                                                                                \r"
     ]
    }
   ],
   "source": [
    "pca = PCA(k=3, inputCol=\"features\")\n",
    "pca.setOutputCol(\"pca_features\")\n",
    "model = pca.fit(train)"
   ]
  },
  {
   "cell_type": "code",
   "execution_count": 176,
   "id": "41f74137",
   "metadata": {},
   "outputs": [
    {
     "name": "stdout",
     "output_type": "stream",
     "text": [
      "Finalized dataset\n"
     ]
    },
    {
     "data": {
      "text/plain": [
       "DenseVector([0.8012, 0.1709, 0.0058])"
      ]
     },
     "execution_count": 176,
     "metadata": {},
     "output_type": "execute_result"
    }
   ],
   "source": [
    "print(\"Finalized dataset\")\n",
    "model.explainedVariance"
   ]
  },
  {
   "cell_type": "code",
   "execution_count": 177,
   "id": "51f095cd",
   "metadata": {},
   "outputs": [],
   "source": [
    "assembler = VectorAssembler(inputCols=[\n",
    " 'HighBP', 'HighChol', 'BMI', 'Smoker', 'PhysActivity', 'Fruits', 'Veggies', 'HvyAlcoholConsump', 'Sex', 'Age', \"CholCheck\",\"Stroke\", \"HeartDiseaseorAttack\", \"AnyHealthcare\",\"NoDocbcCost\",\"GenHlth\",\"MentHlth\",\"PhysHlth\",\"DiffWalk\",\"Income\", \"Education\"],outputCol='features')\n",
    "finalData = assembler.transform(data)\n",
    "train, test = finalData.randomSplit([0.7,0.3])"
   ]
  },
  {
   "cell_type": "code",
   "execution_count": 178,
   "id": "f096c932",
   "metadata": {},
   "outputs": [
    {
     "name": "stderr",
     "output_type": "stream",
     "text": [
      "                                                                                \r"
     ]
    }
   ],
   "source": [
    "pca = PCA(k=3, inputCol=\"features\")\n",
    "pca.setOutputCol(\"pca_features\")\n",
    "model = pca.fit(train)"
   ]
  },
  {
   "cell_type": "code",
   "execution_count": 179,
   "id": "f3a31d9c",
   "metadata": {},
   "outputs": [
    {
     "name": "stdout",
     "output_type": "stream",
     "text": [
      "Initial dataset\n"
     ]
    },
    {
     "data": {
      "text/plain": [
       "DenseVector([0.4828, 0.2212, 0.2101])"
      ]
     },
     "execution_count": 179,
     "metadata": {},
     "output_type": "execute_result"
    }
   ],
   "source": [
    "print(\"Initial dataset\")\n",
    "model.explainedVariance"
   ]
  }
 ],
 "metadata": {
  "kernelspec": {
   "display_name": "Python 3 (ipykernel)",
   "language": "python",
   "name": "python3"
  },
  "language_info": {
   "codemirror_mode": {
    "name": "ipython",
    "version": 3
   },
   "file_extension": ".py",
   "mimetype": "text/x-python",
   "name": "python",
   "nbconvert_exporter": "python",
   "pygments_lexer": "ipython3",
   "version": "3.10.4"
  }
 },
 "nbformat": 4,
 "nbformat_minor": 5
}
